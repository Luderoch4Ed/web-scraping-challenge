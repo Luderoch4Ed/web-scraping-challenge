{
 "cells": [
  {
   "cell_type": "code",
   "execution_count": null,
   "metadata": {
    "ExecuteTime": {
     "end_time": "2020-07-17T16:46:17.958155Z",
     "start_time": "2020-07-17T16:46:17.952147Z"
    }
   },
   "outputs": [],
   "source": [
    "from splinter import Browser\n",
    "from bs4 import BeautifulSoup\n",
    "import requests\n",
    "import re\n",
    "import pandas as pd"
   ]
  },
  {
   "cell_type": "code",
   "execution_count": null,
   "metadata": {
    "ExecuteTime": {
     "end_time": "2020-07-17T16:46:26.821615Z",
     "start_time": "2020-07-17T16:46:21.386931Z"
    }
   },
   "outputs": [],
   "source": [
    "executable_path = {'executable_path': 'chromedriver.exe'}\n",
    "browser = Browser('chrome', **executable_path, headless=False)"
   ]
  },
  {
   "cell_type": "code",
   "execution_count": null,
   "metadata": {
    "ExecuteTime": {
     "end_time": "2020-07-17T15:29:30.405941Z",
     "start_time": "2020-07-17T15:29:28.900433Z"
    }
   },
   "outputs": [],
   "source": [
    "# NASA Mars News Site\n",
    "nasamars_url = ('https://mars.nasa.gov/news/')\n",
    "browser.visit(nasamars_url)"
   ]
  },
  {
   "cell_type": "code",
   "execution_count": null,
   "metadata": {
    "ExecuteTime": {
     "end_time": "2020-07-17T15:29:31.929709Z",
     "start_time": "2020-07-17T15:29:31.781108Z"
    }
   },
   "outputs": [],
   "source": [
    "#\n",
    "htmlnasa = browser.html\n",
    "soupnasa = BeautifulSoup(htmlnasa, 'html.parser')"
   ]
  },
  {
   "cell_type": "code",
   "execution_count": null,
   "metadata": {
    "ExecuteTime": {
     "end_time": "2020-07-17T15:29:33.955013Z",
     "start_time": "2020-07-17T15:29:33.948063Z"
    }
   },
   "outputs": [],
   "source": [
    "#NASA news top most current stories\n",
    "NASA_news = soupnasa.select_one('ul.item_list li.slide')\n",
    "news_title = NASA_news.find(\"div\", class_='content_title').get_text()\n",
    "news_body = NASA_news.find(\"div\", class_='article_teaser_body').get_text()\n",
    "\n"
   ]
  },
  {
   "cell_type": "code",
   "execution_count": null,
   "metadata": {
    "ExecuteTime": {
     "end_time": "2020-07-17T15:29:36.133147Z",
     "start_time": "2020-07-17T15:29:36.122174Z"
    },
    "tags": []
   },
   "outputs": [],
   "source": [
    "#Print scraped news\n",
    "print(news_title + news_body)"
   ]
  },
  {
   "cell_type": "code",
   "execution_count": null,
   "metadata": {
    "ExecuteTime": {
     "end_time": "2020-07-17T15:29:43.055048Z",
     "start_time": "2020-07-17T15:29:39.115015Z"
    }
   },
   "outputs": [],
   "source": [
    "#FEATURED from\n",
    "featured_url = 'https://www.jpl.nasa.gov/spaceimages/?search=&category=Mars'\n",
    "browser.visit(featured_url)\n",
    "\n",
    "first_click = browser.find_by_id('full_image')\n",
    "first_click.click()\n",
    "\n",
    "second_click = browser.links.find_by_partial_text('more info')\n",
    "second_click.click()"
   ]
  },
  {
   "cell_type": "code",
   "execution_count": null,
   "metadata": {
    "ExecuteTime": {
     "end_time": "2020-07-17T15:29:44.646228Z",
     "start_time": "2020-07-17T15:29:44.599061Z"
    }
   },
   "outputs": [],
   "source": [
    "html_partial = browser.html\n",
    "soup_partial = BeautifulSoup(html_partial, 'html.parser')\n",
    "\n",
    "partial_url = soup_partial.select_one('figure.lede a img').get('src')\n",
    "print(partial_url)\n",
    "\n",
    "partial_url = \"https://www.jpl.nasa.gov\" + partial_url\n",
    "print(partial_url)\n",
    "\n",
    "full_url = f'https://www.jpl.nasa.gov{partial_url}'\n",
    "\n",
    "print(full_url)"
   ]
  },
  {
   "cell_type": "code",
   "execution_count": null,
   "metadata": {
    "ExecuteTime": {
     "end_time": "2020-07-17T16:46:06.897560Z",
     "start_time": "2020-07-17T16:45:58.714052Z"
    }
   },
   "outputs": [],
   "source": [
    "weather_url = 'https://twitter.com/marswxreport?lang=en'\n",
    "browser.visit(weather_url)\n",
    "html_weather = browser.html\n",
    "soup_weather = BeautifulSoup(html_weather, 'html.parser')\n",
    "weather_tweet = soup_weather.find('div', attrs={\"class\": \"tweet\", \"data-name\": \"Mars Weather\"})\n",
    "weather_tweet\n",
    "print(weather_tweet)"
   ]
  },
  {
   "cell_type": "code",
   "execution_count": null,
   "metadata": {
    "ExecuteTime": {
     "end_time": "2020-07-17T16:46:47.222223Z",
     "start_time": "2020-07-17T16:46:46.888106Z"
    }
   },
   "outputs": [],
   "source": [
    "# Visit the Mars Weather twitter account through splinter module\n",
    "# Scrape the latest Mars weather tweet from the page\n",
    "#import requests\n",
    "url = \"https://twitter.com/marswxreport?lang=en\"\n",
    "response = requests.get(url)\n",
    "soup = BeautifulSoup(response.text, 'html.parser')\n",
    "mars_weather = soup.find('p', class_=\"TweetTextSize TweetTextSize--normal js-tweet-text tweet-text\")\n",
    "print(\"Mars Weather\")\n",
    "print(\"------------------------------------------------------------------------\")\n",
    "print(mars_weather)"
   ]
  },
  {
   "cell_type": "code",
   "execution_count": null,
   "metadata": {
    "ExecuteTime": {
     "end_time": "2020-07-17T16:46:31.124468Z",
     "start_time": "2020-07-17T16:46:30.260780Z"
    }
   },
   "outputs": [],
   "source": [
    "weather_url = 'https://twitter.com/marswxreport?lang=en'\n",
    "browser.visit(weather_url)\n",
    "html_weather = browser.html\n",
    "soup_weather = BeautifulSoup(html_weather, 'html.parser')\n",
    "weather_tweet = soup_weather.findAll('span', text= True)\n",
    "weather_tweet\n",
    "print(weather_tweet)"
   ]
  },
  {
   "cell_type": "code",
   "execution_count": null,
   "metadata": {},
   "outputs": [],
   "source": []
  }
 ],
 "metadata": {
  "kernelspec": {
   "display_name": "Python 3",
   "language": "python",
   "name": "python3"
  },
  "language_info": {
   "codemirror_mode": {
    "name": "ipython",
    "version": 3
   },
   "file_extension": ".py",
   "mimetype": "text/x-python",
   "name": "python",
   "nbconvert_exporter": "python",
   "pygments_lexer": "ipython3",
   "version": "3.7.4"
  },
  "toc": {
   "base_numbering": 1,
   "nav_menu": {},
   "number_sections": true,
   "sideBar": true,
   "skip_h1_title": false,
   "title_cell": "Table of Contents",
   "title_sidebar": "Contents",
   "toc_cell": false,
   "toc_position": {},
   "toc_section_display": true,
   "toc_window_display": false
  },
  "varInspector": {
   "cols": {
    "lenName": 16,
    "lenType": 16,
    "lenVar": 40
   },
   "kernels_config": {
    "python": {
     "delete_cmd_postfix": "",
     "delete_cmd_prefix": "del ",
     "library": "var_list.py",
     "varRefreshCmd": "print(var_dic_list())"
    },
    "r": {
     "delete_cmd_postfix": ") ",
     "delete_cmd_prefix": "rm(",
     "library": "var_list.r",
     "varRefreshCmd": "cat(var_dic_list()) "
    }
   },
   "types_to_exclude": [
    "module",
    "function",
    "builtin_function_or_method",
    "instance",
    "_Feature"
   ],
   "window_display": false
  }
 },
 "nbformat": 4,
 "nbformat_minor": 2
}
