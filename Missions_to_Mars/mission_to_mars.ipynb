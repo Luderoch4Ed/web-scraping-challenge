{
 "cells": [
  {
   "cell_type": "code",
   "execution_count": 1,
   "metadata": {
    "ExecuteTime": {
     "end_time": "2020-07-22T02:47:16.692515Z",
     "start_time": "2020-07-22T02:47:15.998859Z"
    }
   },
   "outputs": [],
   "source": [
    "from splinter import Browser\n",
    "from bs4 import BeautifulSoup as bs\n",
    "import requests\n",
    "import re\n",
    "import pandas as pd"
   ]
  },
  {
   "cell_type": "code",
   "execution_count": 2,
   "metadata": {
    "ExecuteTime": {
     "end_time": "2020-07-22T02:47:22.389353Z",
     "start_time": "2020-07-22T02:47:16.909886Z"
    }
   },
   "outputs": [],
   "source": [
    "executable_path = {'executable_path': 'chromedriver.exe'}\n",
    "browser = Browser('chrome', **executable_path, headless=True)"
   ]
  },
  {
   "cell_type": "code",
   "execution_count": 3,
   "metadata": {
    "ExecuteTime": {
     "end_time": "2020-07-22T02:47:23.605795Z",
     "start_time": "2020-07-22T02:47:22.437222Z"
    }
   },
   "outputs": [],
   "source": [
    "# NASA Mars News Site\n",
    "nasamars_url = ('https://mars.nasa.gov/news/')\n",
    "browser.visit(nasamars_url)"
   ]
  },
  {
   "cell_type": "code",
   "execution_count": 4,
   "metadata": {
    "ExecuteTime": {
     "end_time": "2020-07-22T02:47:23.776327Z",
     "start_time": "2020-07-22T02:47:23.652683Z"
    }
   },
   "outputs": [],
   "source": [
    "#\n",
    "html = browser.html\n",
    "soup = bs(html, 'html.parser')"
   ]
  },
  {
   "cell_type": "code",
   "execution_count": 9,
   "metadata": {
    "ExecuteTime": {
     "end_time": "2020-07-22T02:50:12.601397Z",
     "start_time": "2020-07-22T02:50:12.541555Z"
    }
   },
   "outputs": [
    {
     "name": "stdout",
     "output_type": "stream",
     "text": [
      "Title:  NASA to Broadcast Mars 2020 Perseverance Launch, Prelaunch Activities\n",
      "Body:  Starting July 27, news activities will cover everything from mission engineering and science to returning samples from Mars to, of course, the launch itself.\n"
     ]
    }
   ],
   "source": [
    "#NASA news most current stories\n",
    "nasa_news = soup.select_one('ul.item_list li.slide')\n",
    "import time\n",
    "#time.sleep(1.5)\n",
    "\n",
    "nasa_news = browser.find_by_css(\"ul.item_list li.slide\").first\n",
    "print(\"Title: \",nasa_news.find_by_css(\"div.content_title\").text)\n",
    "print(\"Body: \",nasa_news.find_by_css(\"div.article_teaser_body\").text)\n",
    "# news_title = nasa_news.find(\"div\", class_='content_title').get_text()\n",
    "# news_body = nasa_news.find(\"div\", class_='article_teaser_body').get_text()\n",
    "\n"
   ]
  },
  {
   "cell_type": "code",
   "execution_count": 6,
   "metadata": {
    "ExecuteTime": {
     "end_time": "2020-07-22T02:47:28.974535Z",
     "start_time": "2020-07-22T02:47:28.856850Z"
    },
    "tags": []
   },
   "outputs": [
    {
     "ename": "NameError",
     "evalue": "name 'news_title' is not defined",
     "output_type": "error",
     "traceback": [
      "\u001b[1;31m---------------------------------------------------------------------------\u001b[0m",
      "\u001b[1;31mNameError\u001b[0m                                 Traceback (most recent call last)",
      "\u001b[1;32m<ipython-input-6-c37cb8f654c0>\u001b[0m in \u001b[0;36m<module>\u001b[1;34m\u001b[0m\n\u001b[0;32m      1\u001b[0m \u001b[1;31m#Print scraped news\u001b[0m\u001b[1;33m\u001b[0m\u001b[1;33m\u001b[0m\u001b[1;33m\u001b[0m\u001b[0m\n\u001b[1;32m----> 2\u001b[1;33m \u001b[0mprint\u001b[0m\u001b[1;33m(\u001b[0m\u001b[0mnews_title\u001b[0m \u001b[1;33m+\u001b[0m\u001b[1;34m\". \"\u001b[0m\u001b[1;33m+\u001b[0m \u001b[0mnews_body\u001b[0m\u001b[1;33m)\u001b[0m\u001b[1;33m\u001b[0m\u001b[1;33m\u001b[0m\u001b[0m\n\u001b[0m",
      "\u001b[1;31mNameError\u001b[0m: name 'news_title' is not defined"
     ]
    }
   ],
   "source": [
    "#Print scraped news\n",
    "print(news_title +\". \"+ news_body)"
   ]
  },
  {
   "cell_type": "code",
   "execution_count": null,
   "metadata": {
    "ExecuteTime": {
     "end_time": "2020-07-21T23:34:23.041653Z",
     "start_time": "2020-07-21T23:34:23.031680Z"
    }
   },
   "outputs": [],
   "source": [
    "print(type(nasa_news))"
   ]
  },
  {
   "cell_type": "code",
   "execution_count": null,
   "metadata": {
    "ExecuteTime": {
     "end_time": "2020-07-21T14:53:05.109095Z",
     "start_time": "2020-07-21T14:53:03.863488Z"
    }
   },
   "outputs": [],
   "source": [
    "url = \"https://mars.nasa.gov/news/\"\n",
    "browser.visit(url)\n",
    "\n",
    "html = browser.html\n",
    "soup = bs(html, \"html.parser\")\n",
    "\n",
    "# Fastest way to get the top article and headline\n",
    "current_news_title = browser.find_by_css(\".content_title\")[0].text\n",
    "current_news_p = browser.find_by_css(\".article_teaser_body\")[0].text\n",
    "\n",
    "print(current_news_title)\n",
    "print(current_news_p)\n"
   ]
  },
  {
   "cell_type": "code",
   "execution_count": null,
   "metadata": {
    "ExecuteTime": {
     "end_time": "2020-07-21T14:53:17.382897Z",
     "start_time": "2020-07-21T14:53:16.845333Z"
    }
   },
   "outputs": [],
   "source": [
    "url_1 = 'https://mars.nasa.gov/news/'\n",
    "browser.visit(url_1)\n",
    "\n",
    "html = browser.html\n",
    "soup = bs(html, 'html.parser')\n",
    "\n",
    "#NASA MARS NEWS--------------\n",
    "soup_top = soup.select_one('ul.item_list li.slide')\n",
    "news_title = soup.select_one(\"div\", class_='content_title', target='self').get_text()\n",
    "#news_para = soup_top.find(\"div\", class_='article_teaser_body').get_text()\n",
    "\n",
    "print(news_title)\n"
   ]
  },
  {
   "cell_type": "code",
   "execution_count": null,
   "metadata": {
    "ExecuteTime": {
     "end_time": "2020-07-21T14:53:19.840099Z",
     "start_time": "2020-07-21T14:53:19.830091Z"
    }
   },
   "outputs": [],
   "source": [
    "print(news_title)"
   ]
  },
  {
   "cell_type": "code",
   "execution_count": null,
   "metadata": {
    "ExecuteTime": {
     "end_time": "2020-07-21T14:53:26.247551Z",
     "start_time": "2020-07-21T14:53:25.732908Z"
    }
   },
   "outputs": [],
   "source": [
    "# Visit nasa.gov url\n",
    "url = 'https://mars.nasa.gov/news/'\n",
    "browser.visit(url)\n",
    "\n",
    "    #time.sleep(1)\n",
    "\n",
    "    # Scrape page into Soup\n",
    "html = browser.html\n",
    "soup = bs(html,\"lxml\")\n",
    "\n",
    "# Get the news title\n",
    "#news_title = soup.find('div', class_='content_title').text\n",
    "news_title = soup.find('div', class_='bottom_gradient').text\n",
    "  \n",
    "# Get news text \n",
    "news_p = soup.find('div', class_='article_teaser_body').text\n",
    "\n",
    "print(news_title +\". \" + news_p)\n"
   ]
  },
  {
   "cell_type": "code",
   "execution_count": null,
   "metadata": {
    "ExecuteTime": {
     "end_time": "2020-07-21T14:25:42.122736Z",
     "start_time": "2020-07-21T14:25:38.945728Z"
    }
   },
   "outputs": [],
   "source": [
    "#FEATURED from\n",
    "featured_url = 'https://www.jpl.nasa.gov/spaceimages/?search=&category=Mars'\n",
    "browser.visit(featured_url)\n",
    "\n",
    "first_click = browser.find_by_id('full_image')\n",
    "first_click.click()\n",
    "\n",
    "second_click = browser.links.find_by_partial_text('more info')\n",
    "second_click.click()"
   ]
  },
  {
   "cell_type": "code",
   "execution_count": null,
   "metadata": {
    "ExecuteTime": {
     "end_time": "2020-07-21T14:25:45.990189Z",
     "start_time": "2020-07-21T14:25:45.935336Z"
    }
   },
   "outputs": [],
   "source": [
    "html_partial = browser.html\n",
    "soup_partial = bs(html_partial, 'html.parser')\n",
    "\n",
    "partial_url = soup_partial.select_one('figure.lede a img').get('src')\n",
    "print(partial_url)\n",
    "\n",
    "partial_url = \"https://www.jpl.nasa.gov\" + partial_url\n",
    "print(partial_url)\n",
    "\n",
    "full_url = f'https://www.jpl.nasa.gov{partial_url}'\n",
    "\n",
    "print(full_url)"
   ]
  },
  {
   "cell_type": "code",
   "execution_count": 12,
   "metadata": {
    "ExecuteTime": {
     "end_time": "2020-07-22T03:03:53.900179Z",
     "start_time": "2020-07-22T03:03:53.018541Z"
    }
   },
   "outputs": [
    {
     "data": {
      "text/plain": [
       "['InSight sol 586 (2020-07-20) low -131.8ºC (-205.2ºF) high -7.1ºC (19.2ºF)\\nwinds from the WNW at 3.8 m/s (8.4 mph) gusting to 13.2 m/s (29.6 mph)\\npressure at 7.90 hPa',\n",
       " \"The first color image from the surface of #Mars, captured by NASA's Viking 1 lander #OTD on July 21, 1976. On the left here is the initially-released version, which was calibrated too far red. The one on the right is a more natural-color view of the same scene.\",\n",
       " 'InSight sol 585 (2020-07-19) low -89.2ºC (-128.5ºF) high -12.0ºC (10.3ºF)\\nwinds from the W at 6.2 m/s (13.9 mph) gusting to 18.9 m/s (42.3 mph)\\npressure at 7.80 hPa',\n",
       " 'InSight sol 584 (2020-07-18) low -89.1ºC (-128.4ºF) high -12.3ºC (9.9ºF)\\nwinds from the WNW at 5.8 m/s (12.9 mph) gusting to 16.0 m/s (35.8 mph)\\npressure at 7.80 hPa',\n",
       " 'InSight sol 583 (2020-07-17) low -89.0ºC (-128.3ºF) high -7.2ºC (19.0ºF)\\nwinds from the W at 5.4 m/s (12.1 mph) gusting to 13.4 m/s (30.1 mph)\\npressure at 7.80 hPa',\n",
       " 'InSight sol 582 (2020-07-16) low -89.1ºC (-128.4ºF) high -4.6ºC (23.8ºF)\\npressure at 7.80 hPa']"
      ]
     },
     "execution_count": 12,
     "metadata": {},
     "output_type": "execute_result"
    }
   ],
   "source": [
    "# Visit the Mars Weather twitter account through splinter module\n",
    "# Scrape the latest Mars weather tweet from the page\n",
    "\n",
    "url = \"https://twitter.com/marswxreport\"\n",
    "browser.visit(url)\n",
    "[ tw.text  for tw in browser.find_by_css(\"Article div[lang='en']\") ]\n",
    "\n"
   ]
  },
  {
   "cell_type": "code",
   "execution_count": null,
   "metadata": {
    "ExecuteTime": {
     "end_time": "2020-07-21T14:26:02.656065Z",
     "start_time": "2020-07-21T14:26:01.700744Z"
    }
   },
   "outputs": [],
   "source": [
    "browser.visit('https://twitter.com/marswxreport?lang=en')\n",
    "\n",
    "html = browser.html\n",
    "weather_data = bs(browser.html, 'html.parser')\n",
    "\n",
    "# get the first latest tweet data\n",
    "whole_tweet = weather_data.find('div', attrs={\"class\": \"tweet\", \"data-item-id\": \"1198749371459870722\"})\n",
    "\n",
    "# find the actual tweet text\n",
    "#mars_weather = whole_tweet.find_All('p', 'tweet-text').get_text()\n",
    "print(whole_tweet)"
   ]
  },
  {
   "cell_type": "code",
   "execution_count": null,
   "metadata": {
    "ExecuteTime": {
     "end_time": "2020-07-21T14:26:05.778774Z",
     "start_time": "2020-07-21T14:26:04.971062Z"
    }
   },
   "outputs": [],
   "source": [
    "browser.visit('https://mars.nasa.gov/news/')\n",
    "news = bs(browser.html, 'html.parser')\n",
    "\n",
    "# select the html that contains the title and paragraph\n",
    "first_element = news.select_one('ul.item_list li.slide div.list_text')\n",
    "# get the news title\n",
    "news_title = browser.find_by_css(\".content_title\")[0].text\n",
    "# get the paragraph text\n",
    "news_par = browser.find_by_css(\".article_teaser_body\")[0].text"
   ]
  },
  {
   "cell_type": "code",
   "execution_count": null,
   "metadata": {
    "ExecuteTime": {
     "end_time": "2020-07-21T14:32:50.865991Z",
     "start_time": "2020-07-21T14:32:49.883505Z"
    }
   },
   "outputs": [],
   "source": [
    "# Change browser to Space Facts\n",
    "url = \"https://space-facts.com/mars/\"\n",
    "browser.visit(url)\n",
    "\n",
    "# Use Beautiful Soup to scrape table\n",
    "html = browser.html\n",
    "soup = bs(html, \"html.parser\")\n",
    "table = soup.find_all('table')[0]\n",
    "\n",
    "# print(table)\n",
    "\n",
    "# Use pandas to render to table string\n",
    "mars_facts = pd.read_html(str(table))\n",
    "\n",
    "# Converting table to JSON\n",
    "mars_table = mars_facts[0].to_json(orient='records')\n",
    "print(mars_table)\n",
    "\n",
    "# Making a dataframe that's unnecessary for the .py file but looks cool\n",
    "#df = pd.read_json(mars_table)\n",
    "#df"
   ]
  },
  {
   "cell_type": "code",
   "execution_count": null,
   "metadata": {
    "ExecuteTime": {
     "end_time": "2020-07-21T14:31:00.660662Z",
     "start_time": "2020-07-21T14:30:59.656451Z"
    }
   },
   "outputs": [],
   "source": [
    "#MARS FACTS\n",
    "tables = pd.read_html('http://space-facts.com/mars/')\n",
    "tables\n",
    "\n",
    "table_df = tables[0]\n",
    "table_df.columns = ['Description','Facts']\n",
    "table_df\n",
    "\n",
    "table_df.to_html()"
   ]
  },
  {
   "cell_type": "code",
   "execution_count": null,
   "metadata": {
    "ExecuteTime": {
     "end_time": "2020-07-21T14:39:21.903311Z",
     "start_time": "2020-07-21T14:39:20.886682Z"
    }
   },
   "outputs": [],
   "source": [
    "tables = pd.read_html('http://space-facts.com/mars/')\n",
    "table_df = tables[0]\n",
    "table_df.columns = ['Parameter','Mars']\n",
    "table_df.to_html('mars_facts.html', index=False)\n",
    "table_df.set_index('Parameter')\n",
    "mars_table = table_df.to_html(classes=\"table table-striped\")\n",
    "print(mars_table)\n"
   ]
  },
  {
   "cell_type": "code",
   "execution_count": null,
   "metadata": {},
   "outputs": [],
   "source": []
  }
 ],
 "metadata": {
  "kernelspec": {
   "display_name": "Python 3",
   "language": "python",
   "name": "python3"
  },
  "language_info": {
   "codemirror_mode": {
    "name": "ipython",
    "version": 3
   },
   "file_extension": ".py",
   "mimetype": "text/x-python",
   "name": "python",
   "nbconvert_exporter": "python",
   "pygments_lexer": "ipython3",
   "version": "3.7.4"
  },
  "toc": {
   "base_numbering": 1,
   "nav_menu": {},
   "number_sections": true,
   "sideBar": true,
   "skip_h1_title": false,
   "title_cell": "Table of Contents",
   "title_sidebar": "Contents",
   "toc_cell": false,
   "toc_position": {},
   "toc_section_display": true,
   "toc_window_display": false
  },
  "varInspector": {
   "cols": {
    "lenName": 16,
    "lenType": 16,
    "lenVar": 40
   },
   "kernels_config": {
    "python": {
     "delete_cmd_postfix": "",
     "delete_cmd_prefix": "del ",
     "library": "var_list.py",
     "varRefreshCmd": "print(var_dic_list())"
    },
    "r": {
     "delete_cmd_postfix": ") ",
     "delete_cmd_prefix": "rm(",
     "library": "var_list.r",
     "varRefreshCmd": "cat(var_dic_list()) "
    }
   },
   "types_to_exclude": [
    "module",
    "function",
    "builtin_function_or_method",
    "instance",
    "_Feature"
   ],
   "window_display": false
  }
 },
 "nbformat": 4,
 "nbformat_minor": 4
}
